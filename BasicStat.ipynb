{
  "nbformat": 4,
  "nbformat_minor": 0,
  "metadata": {
    "colab": {
      "name": "BasicStat",
      "provenance": []
    },
    "kernelspec": {
      "name": "python3",
      "display_name": "Python 3"
    }
  },
  "cells": [
    {
      "cell_type": "code",
      "metadata": {
        "id": "CKsRyJsfBbmE",
        "colab_type": "code",
        "colab": {}
      },
      "source": [
        "#importing libraries\n",
        "import numpy as np\n",
        "import pandas as pd"
      ],
      "execution_count": 0,
      "outputs": []
    },
    {
      "cell_type": "code",
      "metadata": {
        "id": "xzlRdqBJBfCs",
        "colab_type": "code",
        "colab": {}
      },
      "source": [
        "#reading dataset\n",
        "#df = pd.read_csv('E:\\ASDS\\Python for DS\\GPA.csv')\n",
        "\n",
        "url='https://raw.githubusercontent.com/fazlyrabbi77/DANGUE-Forcasting/master/dangueData3.csv'\n",
        "df = pd.read_csv(url)"
      ],
      "execution_count": 0,
      "outputs": []
    },
    {
      "cell_type": "code",
      "metadata": {
        "id": "wr5-PNcLBq7k",
        "colab_type": "code",
        "outputId": "8a9ec505-5b77-42fe-a3d4-513734622a2a",
        "colab": {
          "base_uri": "https://localhost:8080/",
          "height": 204
        }
      },
      "source": [
        "#displaying the data set\n",
        "df.head()"
      ],
      "execution_count": 4,
      "outputs": [
        {
          "output_type": "execute_result",
          "data": {
            "text/html": [
              "<div>\n",
              "<style scoped>\n",
              "    .dataframe tbody tr th:only-of-type {\n",
              "        vertical-align: middle;\n",
              "    }\n",
              "\n",
              "    .dataframe tbody tr th {\n",
              "        vertical-align: top;\n",
              "    }\n",
              "\n",
              "    .dataframe thead th {\n",
              "        text-align: right;\n",
              "    }\n",
              "</style>\n",
              "<table border=\"1\" class=\"dataframe\">\n",
              "  <thead>\n",
              "    <tr style=\"text-align: right;\">\n",
              "      <th></th>\n",
              "      <th>DATE</th>\n",
              "      <th>MIN</th>\n",
              "      <th>MAX</th>\n",
              "      <th>HUMIDITY</th>\n",
              "      <th>RAINFALL</th>\n",
              "      <th>DANGUE</th>\n",
              "      <th>LEVEL</th>\n",
              "    </tr>\n",
              "  </thead>\n",
              "  <tbody>\n",
              "    <tr>\n",
              "      <th>0</th>\n",
              "      <td>1/1/2008</td>\n",
              "      <td>12.993929</td>\n",
              "      <td>25.059539</td>\n",
              "      <td>78.824885</td>\n",
              "      <td>1.286636</td>\n",
              "      <td>0</td>\n",
              "      <td>1</td>\n",
              "    </tr>\n",
              "    <tr>\n",
              "      <th>1</th>\n",
              "      <td>2/1/2008</td>\n",
              "      <td>13.658286</td>\n",
              "      <td>26.383448</td>\n",
              "      <td>72.602956</td>\n",
              "      <td>0.687685</td>\n",
              "      <td>0</td>\n",
              "      <td>1</td>\n",
              "    </tr>\n",
              "    <tr>\n",
              "      <th>2</th>\n",
              "      <td>3/1/2008</td>\n",
              "      <td>20.411250</td>\n",
              "      <td>31.367558</td>\n",
              "      <td>76.903226</td>\n",
              "      <td>0.974194</td>\n",
              "      <td>0</td>\n",
              "      <td>1</td>\n",
              "    </tr>\n",
              "    <tr>\n",
              "      <th>3</th>\n",
              "      <td>4/1/2008</td>\n",
              "      <td>22.771889</td>\n",
              "      <td>34.031619</td>\n",
              "      <td>73.943810</td>\n",
              "      <td>0.980952</td>\n",
              "      <td>0</td>\n",
              "      <td>1</td>\n",
              "    </tr>\n",
              "    <tr>\n",
              "      <th>4</th>\n",
              "      <td>5/1/2008</td>\n",
              "      <td>23.945625</td>\n",
              "      <td>34.171060</td>\n",
              "      <td>77.360369</td>\n",
              "      <td>7.021198</td>\n",
              "      <td>0</td>\n",
              "      <td>1</td>\n",
              "    </tr>\n",
              "  </tbody>\n",
              "</table>\n",
              "</div>"
            ],
            "text/plain": [
              "       DATE        MIN        MAX   HUMIDITY  RAINFALL  DANGUE  LEVEL\n",
              "0  1/1/2008  12.993929  25.059539  78.824885  1.286636       0      1\n",
              "1  2/1/2008  13.658286  26.383448  72.602956  0.687685       0      1\n",
              "2  3/1/2008  20.411250  31.367558  76.903226  0.974194       0      1\n",
              "3  4/1/2008  22.771889  34.031619  73.943810  0.980952       0      1\n",
              "4  5/1/2008  23.945625  34.171060  77.360369  7.021198       0      1"
            ]
          },
          "metadata": {
            "tags": []
          },
          "execution_count": 4
        }
      ]
    },
    {
      "cell_type": "code",
      "metadata": {
        "id": "hcussXcNFTg5",
        "colab_type": "code",
        "outputId": "7dd1fd49-943b-4006-843f-ed40d0e829f7",
        "colab": {
          "base_uri": "https://localhost:8080/",
          "height": 153
        }
      },
      "source": [
        "#Counting\n",
        "df.count()"
      ],
      "execution_count": 5,
      "outputs": [
        {
          "output_type": "execute_result",
          "data": {
            "text/plain": [
              "DATE        134\n",
              "MIN         134\n",
              "MAX         134\n",
              "HUMIDITY    134\n",
              "RAINFALL    134\n",
              "DANGUE      134\n",
              "LEVEL       134\n",
              "dtype: int64"
            ]
          },
          "metadata": {
            "tags": []
          },
          "execution_count": 5
        }
      ]
    },
    {
      "cell_type": "code",
      "metadata": {
        "id": "Z0B1XO1BFePp",
        "colab_type": "code",
        "outputId": "6b92e498-d280-4514-e3ad-6f7a4f9a951c",
        "colab": {
          "base_uri": "https://localhost:8080/",
          "height": 34
        }
      },
      "source": [
        "#Use of sum function\n",
        "df.DANGUE.sum()"
      ],
      "execution_count": 8,
      "outputs": [
        {
          "output_type": "execute_result",
          "data": {
            "text/plain": [
              "28352"
            ]
          },
          "metadata": {
            "tags": []
          },
          "execution_count": 8
        }
      ]
    },
    {
      "cell_type": "code",
      "metadata": {
        "id": "al7OfTv8GkUc",
        "colab_type": "code",
        "outputId": "3ce53b85-49ca-4e32-a005-8091544bc153",
        "colab": {
          "base_uri": "https://localhost:8080/",
          "height": 1000
        }
      },
      "source": [
        "#Use of Cumulative sum\n",
        "df.DANGUE.cumsum()"
      ],
      "execution_count": 9,
      "outputs": [
        {
          "output_type": "execute_result",
          "data": {
            "text/plain": [
              "0          0\n",
              "1          0\n",
              "2          0\n",
              "3          0\n",
              "4          0\n",
              "5          0\n",
              "6        160\n",
              "7        633\n",
              "8        967\n",
              "9       1151\n",
              "10      1151\n",
              "11      1151\n",
              "12      1151\n",
              "13      1151\n",
              "14      1151\n",
              "15      1151\n",
              "16      1152\n",
              "17      1152\n",
              "18      1156\n",
              "19      1281\n",
              "20      1469\n",
              "21      1623\n",
              "22      1623\n",
              "23      1623\n",
              "24      1623\n",
              "25      1623\n",
              "26      1623\n",
              "27      1623\n",
              "28      1623\n",
              "29      1623\n",
              "       ...  \n",
              "104    13635\n",
              "105    14712\n",
              "106    15234\n",
              "107    15379\n",
              "108    15471\n",
              "109    15529\n",
              "110    15565\n",
              "111    15638\n",
              "112    15772\n",
              "113    16039\n",
              "114    16325\n",
              "115    16671\n",
              "116    17101\n",
              "117    17613\n",
              "118    18022\n",
              "119    18148\n",
              "120    18174\n",
              "121    18181\n",
              "122    18200\n",
              "123    18229\n",
              "124    18281\n",
              "125    18576\n",
              "126    19522\n",
              "127    21318\n",
              "128    24405\n",
              "129    26811\n",
              "130    28003\n",
              "131    28296\n",
              "132    28334\n",
              "133    28352\n",
              "Name: DANGUE, Length: 134, dtype: int64"
            ]
          },
          "metadata": {
            "tags": []
          },
          "execution_count": 9
        }
      ]
    },
    {
      "cell_type": "code",
      "metadata": {
        "id": "pMUDJhBqBtK6",
        "colab_type": "code",
        "outputId": "cb4a371d-8d24-42c2-ac17-fc68595a4717",
        "colab": {
          "base_uri": "https://localhost:8080/",
          "height": 136
        }
      },
      "source": [
        "# Calculating mean\n",
        "df.mean()"
      ],
      "execution_count": 10,
      "outputs": [
        {
          "output_type": "execute_result",
          "data": {
            "text/plain": [
              "MIN          20.943415\n",
              "MAX          30.848480\n",
              "HUMIDITY     80.115577\n",
              "RAINFALL     27.840582\n",
              "DANGUE      211.582090\n",
              "LEVEL         2.402985\n",
              "dtype: float64"
            ]
          },
          "metadata": {
            "tags": []
          },
          "execution_count": 10
        }
      ]
    },
    {
      "cell_type": "code",
      "metadata": {
        "id": "HgAvtMpfB8YE",
        "colab_type": "code",
        "outputId": "a93608d8-5e5d-4dfb-9483-69b5c983d303",
        "colab": {
          "base_uri": "https://localhost:8080/",
          "height": 34
        }
      },
      "source": [
        "#Calculating mean of a specific variable\n",
        "df.DANGUE.mean()"
      ],
      "execution_count": 12,
      "outputs": [
        {
          "output_type": "execute_result",
          "data": {
            "text/plain": [
              "211.5820895522388"
            ]
          },
          "metadata": {
            "tags": []
          },
          "execution_count": 12
        }
      ]
    },
    {
      "cell_type": "code",
      "metadata": {
        "id": "-fU9IT3vCGQg",
        "colab_type": "code",
        "outputId": "768d1808-d422-452a-ff6f-33c301713409",
        "colab": {
          "base_uri": "https://localhost:8080/",
          "height": 136
        }
      },
      "source": [
        "# Calculating median\n",
        "df.median()"
      ],
      "execution_count": 13,
      "outputs": [
        {
          "output_type": "execute_result",
          "data": {
            "text/plain": [
              "MIN         22.935495\n",
              "MAX         31.987028\n",
              "HUMIDITY    80.093810\n",
              "RAINFALL     6.008095\n",
              "DANGUE      36.000000\n",
              "LEVEL        2.000000\n",
              "dtype: float64"
            ]
          },
          "metadata": {
            "tags": []
          },
          "execution_count": 13
        }
      ]
    },
    {
      "cell_type": "code",
      "metadata": {
        "id": "O9wiVX4mCQ8d",
        "colab_type": "code",
        "outputId": "c954bf6f-c90c-4889-e22b-0eafc8157b42",
        "colab": {
          "base_uri": "https://localhost:8080/",
          "height": 51
        }
      },
      "source": [
        "# Calculating mode\n",
        "df.DANGUE.mode()"
      ],
      "execution_count": 14,
      "outputs": [
        {
          "output_type": "execute_result",
          "data": {
            "text/plain": [
              "0    0\n",
              "dtype: int64"
            ]
          },
          "metadata": {
            "tags": []
          },
          "execution_count": 14
        }
      ]
    },
    {
      "cell_type": "code",
      "metadata": {
        "id": "2H7MRA3aDnTh",
        "colab_type": "code",
        "outputId": "74333b63-4edb-4d1f-be4b-e5ff6729529d",
        "colab": {
          "base_uri": "https://localhost:8080/",
          "height": 153
        }
      },
      "source": [
        "#Checking minimum values\n",
        "df.min()"
      ],
      "execution_count": 15,
      "outputs": [
        {
          "output_type": "execute_result",
          "data": {
            "text/plain": [
              "DATE        1/1/2008\n",
              "MIN          10.5979\n",
              "MAX          23.5227\n",
              "HUMIDITY     67.5484\n",
              "RAINFALL           0\n",
              "DANGUE             0\n",
              "LEVEL              1\n",
              "dtype: object"
            ]
          },
          "metadata": {
            "tags": []
          },
          "execution_count": 15
        }
      ]
    },
    {
      "cell_type": "code",
      "metadata": {
        "id": "JNAbuyFYDv3Q",
        "colab_type": "code",
        "outputId": "6548c41f-6bd0-4974-ddee-d6ce44f0d80b",
        "colab": {
          "base_uri": "https://localhost:8080/",
          "height": 153
        }
      },
      "source": [
        "#Checking maximum values\n",
        "df.max()"
      ],
      "execution_count": 16,
      "outputs": [
        {
          "output_type": "execute_result",
          "data": {
            "text/plain": [
              "DATE        9/1/2018\n",
              "MIN          26.4858\n",
              "MAX          35.7693\n",
              "HUMIDITY     88.3841\n",
              "RAINFALL     689.161\n",
              "DANGUE          3087\n",
              "LEVEL              7\n",
              "dtype: object"
            ]
          },
          "metadata": {
            "tags": []
          },
          "execution_count": 16
        }
      ]
    },
    {
      "cell_type": "code",
      "metadata": {
        "id": "T6Ne9dR_EHSN",
        "colab_type": "code",
        "outputId": "a1eb2ff1-d8c5-413e-9952-a2f15df94089",
        "colab": {
          "base_uri": "https://localhost:8080/",
          "height": 102
        }
      },
      "source": [
        "#Checking range (after excluding string value valriable 'Name')\n",
        "range=df[['MIN','MAX','HUMIDITY','DANGUE']].max()-df[['MIN','MAX','HUMIDITY','DANGUE']].min()\n",
        "range"
      ],
      "execution_count": 17,
      "outputs": [
        {
          "output_type": "execute_result",
          "data": {
            "text/plain": [
              "MIN           15.887875\n",
              "MAX           12.246658\n",
              "HUMIDITY      20.835684\n",
              "DANGUE      3087.000000\n",
              "dtype: float64"
            ]
          },
          "metadata": {
            "tags": []
          },
          "execution_count": 17
        }
      ]
    },
    {
      "cell_type": "code",
      "metadata": {
        "id": "tg7HssFuGECa",
        "colab_type": "code",
        "outputId": "beb184b8-88eb-4c7d-e946-7d8ce2b988b5",
        "colab": {
          "base_uri": "https://localhost:8080/",
          "height": 136
        }
      },
      "source": [
        "#Calculating Variance\n",
        "df.var()"
      ],
      "execution_count": 18,
      "outputs": [
        {
          "output_type": "execute_result",
          "data": {
            "text/plain": [
              "MIN             23.331309\n",
              "MAX              8.128713\n",
              "HUMIDITY        27.603039\n",
              "RAINFALL      9681.338800\n",
              "DANGUE      203594.621030\n",
              "LEVEL            1.941645\n",
              "dtype: float64"
            ]
          },
          "metadata": {
            "tags": []
          },
          "execution_count": 18
        }
      ]
    },
    {
      "cell_type": "code",
      "metadata": {
        "id": "B9jiSycbG-EQ",
        "colab_type": "code",
        "outputId": "49f05453-945e-456b-b11a-1fe9a81f672a",
        "colab": {
          "base_uri": "https://localhost:8080/",
          "height": 136
        }
      },
      "source": [
        "#Calculating Standard Deviation\n",
        "df.std()"
      ],
      "execution_count": 19,
      "outputs": [
        {
          "output_type": "execute_result",
          "data": {
            "text/plain": [
              "MIN           4.830249\n",
              "MAX           2.851090\n",
              "HUMIDITY      5.253859\n",
              "RAINFALL     98.393795\n",
              "DANGUE      451.214606\n",
              "LEVEL         1.393429\n",
              "dtype: float64"
            ]
          },
          "metadata": {
            "tags": []
          },
          "execution_count": 19
        }
      ]
    },
    {
      "cell_type": "code",
      "metadata": {
        "id": "8IgVfxPVCjBQ",
        "colab_type": "code",
        "outputId": "0908e219-5dbc-4881-cafb-b471dbff0756",
        "colab": {
          "base_uri": "https://localhost:8080/",
          "height": 235
        }
      },
      "source": [
        "#Checking covariance\n",
        "df.cov()"
      ],
      "execution_count": 20,
      "outputs": [
        {
          "output_type": "execute_result",
          "data": {
            "text/html": [
              "<div>\n",
              "<style scoped>\n",
              "    .dataframe tbody tr th:only-of-type {\n",
              "        vertical-align: middle;\n",
              "    }\n",
              "\n",
              "    .dataframe tbody tr th {\n",
              "        vertical-align: top;\n",
              "    }\n",
              "\n",
              "    .dataframe thead th {\n",
              "        text-align: right;\n",
              "    }\n",
              "</style>\n",
              "<table border=\"1\" class=\"dataframe\">\n",
              "  <thead>\n",
              "    <tr style=\"text-align: right;\">\n",
              "      <th></th>\n",
              "      <th>MIN</th>\n",
              "      <th>MAX</th>\n",
              "      <th>HUMIDITY</th>\n",
              "      <th>RAINFALL</th>\n",
              "      <th>DANGUE</th>\n",
              "      <th>LEVEL</th>\n",
              "    </tr>\n",
              "  </thead>\n",
              "  <tbody>\n",
              "    <tr>\n",
              "      <th>MIN</th>\n",
              "      <td>23.331309</td>\n",
              "      <td>12.117563</td>\n",
              "      <td>12.748417</td>\n",
              "      <td>110.023893</td>\n",
              "      <td>656.711040</td>\n",
              "      <td>2.790461</td>\n",
              "    </tr>\n",
              "    <tr>\n",
              "      <th>MAX</th>\n",
              "      <td>12.117563</td>\n",
              "      <td>8.128713</td>\n",
              "      <td>1.316017</td>\n",
              "      <td>18.120308</td>\n",
              "      <td>228.745484</td>\n",
              "      <td>0.881696</td>\n",
              "    </tr>\n",
              "    <tr>\n",
              "      <th>HUMIDITY</th>\n",
              "      <td>12.748417</td>\n",
              "      <td>1.316017</td>\n",
              "      <td>27.603039</td>\n",
              "      <td>49.093622</td>\n",
              "      <td>652.779872</td>\n",
              "      <td>3.532120</td>\n",
              "    </tr>\n",
              "    <tr>\n",
              "      <th>RAINFALL</th>\n",
              "      <td>110.023893</td>\n",
              "      <td>18.120308</td>\n",
              "      <td>49.093622</td>\n",
              "      <td>9681.338800</td>\n",
              "      <td>16367.939455</td>\n",
              "      <td>44.186802</td>\n",
              "    </tr>\n",
              "    <tr>\n",
              "      <th>DANGUE</th>\n",
              "      <td>656.711040</td>\n",
              "      <td>228.745484</td>\n",
              "      <td>652.779872</td>\n",
              "      <td>16367.939455</td>\n",
              "      <td>203594.621030</td>\n",
              "      <td>542.154640</td>\n",
              "    </tr>\n",
              "    <tr>\n",
              "      <th>LEVEL</th>\n",
              "      <td>2.790461</td>\n",
              "      <td>0.881696</td>\n",
              "      <td>3.532120</td>\n",
              "      <td>44.186802</td>\n",
              "      <td>542.154640</td>\n",
              "      <td>1.941645</td>\n",
              "    </tr>\n",
              "  </tbody>\n",
              "</table>\n",
              "</div>"
            ],
            "text/plain": [
              "                 MIN         MAX  ...         DANGUE       LEVEL\n",
              "MIN        23.331309   12.117563  ...     656.711040    2.790461\n",
              "MAX        12.117563    8.128713  ...     228.745484    0.881696\n",
              "HUMIDITY   12.748417    1.316017  ...     652.779872    3.532120\n",
              "RAINFALL  110.023893   18.120308  ...   16367.939455   44.186802\n",
              "DANGUE    656.711040  228.745484  ...  203594.621030  542.154640\n",
              "LEVEL       2.790461    0.881696  ...     542.154640    1.941645\n",
              "\n",
              "[6 rows x 6 columns]"
            ]
          },
          "metadata": {
            "tags": []
          },
          "execution_count": 20
        }
      ]
    },
    {
      "cell_type": "code",
      "metadata": {
        "id": "H2WlVriUDCCa",
        "colab_type": "code",
        "outputId": "6eab22ae-88ec-4c01-ed18-4973732f8584",
        "colab": {
          "base_uri": "https://localhost:8080/",
          "height": 235
        }
      },
      "source": [
        "#Checking correlation\n",
        "df.corr()"
      ],
      "execution_count": 21,
      "outputs": [
        {
          "output_type": "execute_result",
          "data": {
            "text/html": [
              "<div>\n",
              "<style scoped>\n",
              "    .dataframe tbody tr th:only-of-type {\n",
              "        vertical-align: middle;\n",
              "    }\n",
              "\n",
              "    .dataframe tbody tr th {\n",
              "        vertical-align: top;\n",
              "    }\n",
              "\n",
              "    .dataframe thead th {\n",
              "        text-align: right;\n",
              "    }\n",
              "</style>\n",
              "<table border=\"1\" class=\"dataframe\">\n",
              "  <thead>\n",
              "    <tr style=\"text-align: right;\">\n",
              "      <th></th>\n",
              "      <th>MIN</th>\n",
              "      <th>MAX</th>\n",
              "      <th>HUMIDITY</th>\n",
              "      <th>RAINFALL</th>\n",
              "      <th>DANGUE</th>\n",
              "      <th>LEVEL</th>\n",
              "    </tr>\n",
              "  </thead>\n",
              "  <tbody>\n",
              "    <tr>\n",
              "      <th>MIN</th>\n",
              "      <td>1.000000</td>\n",
              "      <td>0.879903</td>\n",
              "      <td>0.502352</td>\n",
              "      <td>0.231499</td>\n",
              "      <td>0.301316</td>\n",
              "      <td>0.414593</td>\n",
              "    </tr>\n",
              "    <tr>\n",
              "      <th>MAX</th>\n",
              "      <td>0.879903</td>\n",
              "      <td>1.000000</td>\n",
              "      <td>0.087856</td>\n",
              "      <td>0.064593</td>\n",
              "      <td>0.177811</td>\n",
              "      <td>0.221934</td>\n",
              "    </tr>\n",
              "    <tr>\n",
              "      <th>HUMIDITY</th>\n",
              "      <td>0.502352</td>\n",
              "      <td>0.087856</td>\n",
              "      <td>1.000000</td>\n",
              "      <td>0.094968</td>\n",
              "      <td>0.275363</td>\n",
              "      <td>0.482472</td>\n",
              "    </tr>\n",
              "    <tr>\n",
              "      <th>RAINFALL</th>\n",
              "      <td>0.231499</td>\n",
              "      <td>0.064593</td>\n",
              "      <td>0.094968</td>\n",
              "      <td>1.000000</td>\n",
              "      <td>0.368675</td>\n",
              "      <td>0.322285</td>\n",
              "    </tr>\n",
              "    <tr>\n",
              "      <th>DANGUE</th>\n",
              "      <td>0.301316</td>\n",
              "      <td>0.177811</td>\n",
              "      <td>0.275363</td>\n",
              "      <td>0.368675</td>\n",
              "      <td>1.000000</td>\n",
              "      <td>0.862293</td>\n",
              "    </tr>\n",
              "    <tr>\n",
              "      <th>LEVEL</th>\n",
              "      <td>0.414593</td>\n",
              "      <td>0.221934</td>\n",
              "      <td>0.482472</td>\n",
              "      <td>0.322285</td>\n",
              "      <td>0.862293</td>\n",
              "      <td>1.000000</td>\n",
              "    </tr>\n",
              "  </tbody>\n",
              "</table>\n",
              "</div>"
            ],
            "text/plain": [
              "               MIN       MAX  HUMIDITY  RAINFALL    DANGUE     LEVEL\n",
              "MIN       1.000000  0.879903  0.502352  0.231499  0.301316  0.414593\n",
              "MAX       0.879903  1.000000  0.087856  0.064593  0.177811  0.221934\n",
              "HUMIDITY  0.502352  0.087856  1.000000  0.094968  0.275363  0.482472\n",
              "RAINFALL  0.231499  0.064593  0.094968  1.000000  0.368675  0.322285\n",
              "DANGUE    0.301316  0.177811  0.275363  0.368675  1.000000  0.862293\n",
              "LEVEL     0.414593  0.221934  0.482472  0.322285  0.862293  1.000000"
            ]
          },
          "metadata": {
            "tags": []
          },
          "execution_count": 21
        }
      ]
    },
    {
      "cell_type": "code",
      "metadata": {
        "id": "bKId6C2pDEx3",
        "colab_type": "code",
        "outputId": "7db8fc6b-8647-4612-8883-5027635bd6f5",
        "colab": {
          "base_uri": "https://localhost:8080/",
          "height": 136
        }
      },
      "source": [
        "#Checking Skewness\n",
        "df.skew()"
      ],
      "execution_count": 22,
      "outputs": [
        {
          "output_type": "execute_result",
          "data": {
            "text/plain": [
              "MIN        -0.644642\n",
              "MAX        -0.931915\n",
              "HUMIDITY   -0.542254\n",
              "RAINFALL    5.285696\n",
              "DANGUE      3.772352\n",
              "LEVEL       1.328845\n",
              "dtype: float64"
            ]
          },
          "metadata": {
            "tags": []
          },
          "execution_count": 22
        }
      ]
    },
    {
      "cell_type": "code",
      "metadata": {
        "id": "w9X3Ev4hDKuA",
        "colab_type": "code",
        "outputId": "918a8bdc-4c22-4d5e-e00b-bd16745e0a60",
        "colab": {
          "base_uri": "https://localhost:8080/",
          "height": 136
        }
      },
      "source": [
        "#Checking Skewness\n",
        "df.kurtosis()"
      ],
      "execution_count": 23,
      "outputs": [
        {
          "output_type": "execute_result",
          "data": {
            "text/plain": [
              "MIN         -1.078115\n",
              "MAX         -0.193165\n",
              "HUMIDITY    -0.484514\n",
              "RAINFALL    29.474672\n",
              "DANGUE      17.087969\n",
              "LEVEL        1.883387\n",
              "dtype: float64"
            ]
          },
          "metadata": {
            "tags": []
          },
          "execution_count": 23
        }
      ]
    },
    {
      "cell_type": "code",
      "metadata": {
        "id": "IfU5SVTrDQ3Y",
        "colab_type": "code",
        "outputId": "17f82a19-0148-432f-ac67-2f49ac52297b",
        "colab": {
          "base_uri": "https://localhost:8080/",
          "height": 136
        }
      },
      "source": [
        "#Checking Quantile\n",
        "df.quantile(.25)"
      ],
      "execution_count": 24,
      "outputs": [
        {
          "output_type": "execute_result",
          "data": {
            "text/plain": [
              "MIN         16.404490\n",
              "MAX         29.277935\n",
              "HUMIDITY    77.188214\n",
              "RAINFALL     0.547765\n",
              "DANGUE       0.000000\n",
              "LEVEL        1.000000\n",
              "Name: 0.25, dtype: float64"
            ]
          },
          "metadata": {
            "tags": []
          },
          "execution_count": 24
        }
      ]
    },
    {
      "cell_type": "code",
      "metadata": {
        "id": "DyQVkBIQHhKH",
        "colab_type": "code",
        "outputId": "c1015484-914a-4016-ae92-c0e426b0d777",
        "colab": {
          "base_uri": "https://localhost:8080/",
          "height": 136
        }
      },
      "source": [
        "#Calculating IRQ\n",
        "irq=df.quantile(.75)-df.quantile(.25)\n",
        "irq"
      ],
      "execution_count": 25,
      "outputs": [
        {
          "output_type": "execute_result",
          "data": {
            "text/plain": [
              "MIN           8.874480\n",
              "MAX           3.398978\n",
              "HUMIDITY      7.589897\n",
              "RAINFALL     12.226283\n",
              "DANGUE      187.000000\n",
              "LEVEL         2.000000\n",
              "dtype: float64"
            ]
          },
          "metadata": {
            "tags": []
          },
          "execution_count": 25
        }
      ]
    },
    {
      "cell_type": "code",
      "metadata": {
        "id": "TR0VjilqH4jD",
        "colab_type": "code",
        "outputId": "6b1fa838-9787-4de7-f607-116e04b05a6d",
        "colab": {
          "base_uri": "https://localhost:8080/",
          "height": 297
        }
      },
      "source": [
        "#Describing the whole dataset\n",
        "df.describe()"
      ],
      "execution_count": 26,
      "outputs": [
        {
          "output_type": "execute_result",
          "data": {
            "text/html": [
              "<div>\n",
              "<style scoped>\n",
              "    .dataframe tbody tr th:only-of-type {\n",
              "        vertical-align: middle;\n",
              "    }\n",
              "\n",
              "    .dataframe tbody tr th {\n",
              "        vertical-align: top;\n",
              "    }\n",
              "\n",
              "    .dataframe thead th {\n",
              "        text-align: right;\n",
              "    }\n",
              "</style>\n",
              "<table border=\"1\" class=\"dataframe\">\n",
              "  <thead>\n",
              "    <tr style=\"text-align: right;\">\n",
              "      <th></th>\n",
              "      <th>MIN</th>\n",
              "      <th>MAX</th>\n",
              "      <th>HUMIDITY</th>\n",
              "      <th>RAINFALL</th>\n",
              "      <th>DANGUE</th>\n",
              "      <th>LEVEL</th>\n",
              "    </tr>\n",
              "  </thead>\n",
              "  <tbody>\n",
              "    <tr>\n",
              "      <th>count</th>\n",
              "      <td>134.000000</td>\n",
              "      <td>134.000000</td>\n",
              "      <td>134.000000</td>\n",
              "      <td>134.000000</td>\n",
              "      <td>134.000000</td>\n",
              "      <td>134.000000</td>\n",
              "    </tr>\n",
              "    <tr>\n",
              "      <th>mean</th>\n",
              "      <td>20.943415</td>\n",
              "      <td>30.848480</td>\n",
              "      <td>80.115577</td>\n",
              "      <td>27.840582</td>\n",
              "      <td>211.582090</td>\n",
              "      <td>2.402985</td>\n",
              "    </tr>\n",
              "    <tr>\n",
              "      <th>std</th>\n",
              "      <td>4.830249</td>\n",
              "      <td>2.851090</td>\n",
              "      <td>5.253859</td>\n",
              "      <td>98.393795</td>\n",
              "      <td>451.214606</td>\n",
              "      <td>1.393429</td>\n",
              "    </tr>\n",
              "    <tr>\n",
              "      <th>min</th>\n",
              "      <td>10.597946</td>\n",
              "      <td>23.522676</td>\n",
              "      <td>67.548387</td>\n",
              "      <td>0.000000</td>\n",
              "      <td>0.000000</td>\n",
              "      <td>1.000000</td>\n",
              "    </tr>\n",
              "    <tr>\n",
              "      <th>25%</th>\n",
              "      <td>16.404490</td>\n",
              "      <td>29.277935</td>\n",
              "      <td>77.188214</td>\n",
              "      <td>0.547765</td>\n",
              "      <td>0.000000</td>\n",
              "      <td>1.000000</td>\n",
              "    </tr>\n",
              "    <tr>\n",
              "      <th>50%</th>\n",
              "      <td>22.935495</td>\n",
              "      <td>31.987028</td>\n",
              "      <td>80.093810</td>\n",
              "      <td>6.008095</td>\n",
              "      <td>36.000000</td>\n",
              "      <td>2.000000</td>\n",
              "    </tr>\n",
              "    <tr>\n",
              "      <th>75%</th>\n",
              "      <td>25.278970</td>\n",
              "      <td>32.676912</td>\n",
              "      <td>84.778111</td>\n",
              "      <td>12.774048</td>\n",
              "      <td>187.000000</td>\n",
              "      <td>3.000000</td>\n",
              "    </tr>\n",
              "    <tr>\n",
              "      <th>max</th>\n",
              "      <td>26.485821</td>\n",
              "      <td>35.769333</td>\n",
              "      <td>88.384071</td>\n",
              "      <td>689.161290</td>\n",
              "      <td>3087.000000</td>\n",
              "      <td>7.000000</td>\n",
              "    </tr>\n",
              "  </tbody>\n",
              "</table>\n",
              "</div>"
            ],
            "text/plain": [
              "              MIN         MAX    HUMIDITY    RAINFALL       DANGUE       LEVEL\n",
              "count  134.000000  134.000000  134.000000  134.000000   134.000000  134.000000\n",
              "mean    20.943415   30.848480   80.115577   27.840582   211.582090    2.402985\n",
              "std      4.830249    2.851090    5.253859   98.393795   451.214606    1.393429\n",
              "min     10.597946   23.522676   67.548387    0.000000     0.000000    1.000000\n",
              "25%     16.404490   29.277935   77.188214    0.547765     0.000000    1.000000\n",
              "50%     22.935495   31.987028   80.093810    6.008095    36.000000    2.000000\n",
              "75%     25.278970   32.676912   84.778111   12.774048   187.000000    3.000000\n",
              "max     26.485821   35.769333   88.384071  689.161290  3087.000000    7.000000"
            ]
          },
          "metadata": {
            "tags": []
          },
          "execution_count": 26
        }
      ]
    },
    {
      "cell_type": "code",
      "metadata": {
        "id": "-Ea8yKbFIAxf",
        "colab_type": "code",
        "outputId": "726a8ec3-ea39-4abe-d8ce-eef71b8627f2",
        "colab": {
          "base_uri": "https://localhost:8080/",
          "height": 390
        }
      },
      "source": [
        "#Describing the whole dataset including string variable\n",
        "df.describe(include='all')"
      ],
      "execution_count": 27,
      "outputs": [
        {
          "output_type": "execute_result",
          "data": {
            "text/html": [
              "<div>\n",
              "<style scoped>\n",
              "    .dataframe tbody tr th:only-of-type {\n",
              "        vertical-align: middle;\n",
              "    }\n",
              "\n",
              "    .dataframe tbody tr th {\n",
              "        vertical-align: top;\n",
              "    }\n",
              "\n",
              "    .dataframe thead th {\n",
              "        text-align: right;\n",
              "    }\n",
              "</style>\n",
              "<table border=\"1\" class=\"dataframe\">\n",
              "  <thead>\n",
              "    <tr style=\"text-align: right;\">\n",
              "      <th></th>\n",
              "      <th>DATE</th>\n",
              "      <th>MIN</th>\n",
              "      <th>MAX</th>\n",
              "      <th>HUMIDITY</th>\n",
              "      <th>RAINFALL</th>\n",
              "      <th>DANGUE</th>\n",
              "      <th>LEVEL</th>\n",
              "    </tr>\n",
              "  </thead>\n",
              "  <tbody>\n",
              "    <tr>\n",
              "      <th>count</th>\n",
              "      <td>134</td>\n",
              "      <td>134.000000</td>\n",
              "      <td>134.000000</td>\n",
              "      <td>134.000000</td>\n",
              "      <td>134.000000</td>\n",
              "      <td>134.000000</td>\n",
              "      <td>134.000000</td>\n",
              "    </tr>\n",
              "    <tr>\n",
              "      <th>unique</th>\n",
              "      <td>134</td>\n",
              "      <td>NaN</td>\n",
              "      <td>NaN</td>\n",
              "      <td>NaN</td>\n",
              "      <td>NaN</td>\n",
              "      <td>NaN</td>\n",
              "      <td>NaN</td>\n",
              "    </tr>\n",
              "    <tr>\n",
              "      <th>top</th>\n",
              "      <td>12/1/2010</td>\n",
              "      <td>NaN</td>\n",
              "      <td>NaN</td>\n",
              "      <td>NaN</td>\n",
              "      <td>NaN</td>\n",
              "      <td>NaN</td>\n",
              "      <td>NaN</td>\n",
              "    </tr>\n",
              "    <tr>\n",
              "      <th>freq</th>\n",
              "      <td>1</td>\n",
              "      <td>NaN</td>\n",
              "      <td>NaN</td>\n",
              "      <td>NaN</td>\n",
              "      <td>NaN</td>\n",
              "      <td>NaN</td>\n",
              "      <td>NaN</td>\n",
              "    </tr>\n",
              "    <tr>\n",
              "      <th>mean</th>\n",
              "      <td>NaN</td>\n",
              "      <td>20.943415</td>\n",
              "      <td>30.848480</td>\n",
              "      <td>80.115577</td>\n",
              "      <td>27.840582</td>\n",
              "      <td>211.582090</td>\n",
              "      <td>2.402985</td>\n",
              "    </tr>\n",
              "    <tr>\n",
              "      <th>std</th>\n",
              "      <td>NaN</td>\n",
              "      <td>4.830249</td>\n",
              "      <td>2.851090</td>\n",
              "      <td>5.253859</td>\n",
              "      <td>98.393795</td>\n",
              "      <td>451.214606</td>\n",
              "      <td>1.393429</td>\n",
              "    </tr>\n",
              "    <tr>\n",
              "      <th>min</th>\n",
              "      <td>NaN</td>\n",
              "      <td>10.597946</td>\n",
              "      <td>23.522676</td>\n",
              "      <td>67.548387</td>\n",
              "      <td>0.000000</td>\n",
              "      <td>0.000000</td>\n",
              "      <td>1.000000</td>\n",
              "    </tr>\n",
              "    <tr>\n",
              "      <th>25%</th>\n",
              "      <td>NaN</td>\n",
              "      <td>16.404490</td>\n",
              "      <td>29.277935</td>\n",
              "      <td>77.188214</td>\n",
              "      <td>0.547765</td>\n",
              "      <td>0.000000</td>\n",
              "      <td>1.000000</td>\n",
              "    </tr>\n",
              "    <tr>\n",
              "      <th>50%</th>\n",
              "      <td>NaN</td>\n",
              "      <td>22.935495</td>\n",
              "      <td>31.987028</td>\n",
              "      <td>80.093810</td>\n",
              "      <td>6.008095</td>\n",
              "      <td>36.000000</td>\n",
              "      <td>2.000000</td>\n",
              "    </tr>\n",
              "    <tr>\n",
              "      <th>75%</th>\n",
              "      <td>NaN</td>\n",
              "      <td>25.278970</td>\n",
              "      <td>32.676912</td>\n",
              "      <td>84.778111</td>\n",
              "      <td>12.774048</td>\n",
              "      <td>187.000000</td>\n",
              "      <td>3.000000</td>\n",
              "    </tr>\n",
              "    <tr>\n",
              "      <th>max</th>\n",
              "      <td>NaN</td>\n",
              "      <td>26.485821</td>\n",
              "      <td>35.769333</td>\n",
              "      <td>88.384071</td>\n",
              "      <td>689.161290</td>\n",
              "      <td>3087.000000</td>\n",
              "      <td>7.000000</td>\n",
              "    </tr>\n",
              "  </tbody>\n",
              "</table>\n",
              "</div>"
            ],
            "text/plain": [
              "             DATE         MIN         MAX  ...    RAINFALL       DANGUE       LEVEL\n",
              "count         134  134.000000  134.000000  ...  134.000000   134.000000  134.000000\n",
              "unique        134         NaN         NaN  ...         NaN          NaN         NaN\n",
              "top     12/1/2010         NaN         NaN  ...         NaN          NaN         NaN\n",
              "freq            1         NaN         NaN  ...         NaN          NaN         NaN\n",
              "mean          NaN   20.943415   30.848480  ...   27.840582   211.582090    2.402985\n",
              "std           NaN    4.830249    2.851090  ...   98.393795   451.214606    1.393429\n",
              "min           NaN   10.597946   23.522676  ...    0.000000     0.000000    1.000000\n",
              "25%           NaN   16.404490   29.277935  ...    0.547765     0.000000    1.000000\n",
              "50%           NaN   22.935495   31.987028  ...    6.008095    36.000000    2.000000\n",
              "75%           NaN   25.278970   32.676912  ...   12.774048   187.000000    3.000000\n",
              "max           NaN   26.485821   35.769333  ...  689.161290  3087.000000    7.000000\n",
              "\n",
              "[11 rows x 7 columns]"
            ]
          },
          "metadata": {
            "tags": []
          },
          "execution_count": 27
        }
      ]
    },
    {
      "cell_type": "code",
      "metadata": {
        "id": "ZW48VU82Jjcf",
        "colab_type": "code",
        "colab": {
          "base_uri": "https://localhost:8080/",
          "height": 300
        },
        "outputId": "45600033-cf3f-4adf-df8d-2a8b49ac69e2"
      },
      "source": [
        "import matplotlib.pyplot as plt\n",
        "import seaborn as sns\n",
        "#df.hist()\n",
        "sns.distplot(df['HUMIDITY'])"
      ],
      "execution_count": 35,
      "outputs": [
        {
          "output_type": "execute_result",
          "data": {
            "text/plain": [
              "<matplotlib.axes._subplots.AxesSubplot at 0x7f2b1eb5fdd8>"
            ]
          },
          "metadata": {
            "tags": []
          },
          "execution_count": 35
        },
        {
          "output_type": "display_data",
          "data": {
            "image/png": "[encoded data removed]",
            "text/plain": [
              "<Figure size 432x288 with 1 Axes>"
            ]
          },
          "metadata": {
            "tags": []
          }
        }
      ]
    },
    {
      "cell_type": "code",
      "metadata": {
        "id": "XP6LiPQ8IZGc",
        "colab_type": "code",
        "colab": {
          "base_uri": "https://localhost:8080/",
          "height": 1000
        },
        "outputId": "96523610-d338-42f7-9ac4-0142098724e0"
      },
      "source": [
        "sns.pairplot(df);"
      ],
      "execution_count": 34,
      "outputs": [
        {
          "output_type": "display_data",
          "data": {
            "image/png": "[encoded data removed]",
            "text/plain": [
              "<Figure size 1080x1080 with 42 Axes>"
            ]
          },
          "metadata": {
            "tags": []
          }
        }
      ]
    },
    {
      "cell_type": "code",
      "metadata": {
        "id": "TfEJqhlhJ_ER",
        "colab_type": "code",
        "colab": {}
      },
      "source": [
        ""
      ],
      "execution_count": 0,
      "outputs": []
    }
  ]
}